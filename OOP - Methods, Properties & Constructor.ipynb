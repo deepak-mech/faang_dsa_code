{
 "cells": [
  {
   "cell_type": "code",
   "execution_count": 32,
   "metadata": {},
   "outputs": [],
   "source": [
    "class VisitorForm:   \n",
    "    #class variables\n",
    "    name = None                               \n",
    "    phone = None\n",
    "    remarks = None\n",
    "    \n",
    "    # setter method\n",
    "    def setname(self, name, phone, remarks):\n",
    "        #instance variables\n",
    "        self.name = name                        \n",
    "        self.phone = phone\n",
    "        self.remarks = remarks\n",
    "     \n",
    "    # getter method\n",
    "    def getname(self):\n",
    "        print(VisitorForm.name)\n",
    "        print(self.name)\n",
    "        print(self.phone)\n",
    "        print(self.remarks)\n",
    "    "
   ]
  },
  {
   "cell_type": "code",
   "execution_count": 33,
   "metadata": {},
   "outputs": [
    {
     "name": "stdout",
     "output_type": "stream",
     "text": [
      "None\n",
      "jack ma\n",
      "1111\n",
      "gud\n"
     ]
    }
   ],
   "source": [
    "# Instantiation (Creating new object : Printing out Hard Copy)\n",
    "jack = VisitorForm() \n",
    "\n",
    "# Use setter method to fill the hard copy form by visitor\n",
    "jack.setname(\"jack ma\", 1111, \"gud\")\n",
    "\n",
    "# Use getter method to get data\n",
    "jack.getname()"
   ]
  },
  {
   "cell_type": "code",
   "execution_count": null,
   "metadata": {},
   "outputs": [],
   "source": []
  },
  {
   "cell_type": "code",
   "execution_count": 38,
   "metadata": {},
   "outputs": [],
   "source": [
    "class VisitorForm:\n",
    "    name = None                                 \n",
    "    phone = None\n",
    "    remarks = None\n",
    "    \n",
    "    # Constructor: Automatically run whenever any new object created\n",
    "    def __init__(self, name, phone, remarks):\n",
    "        print(\"Welcome to LW...\\n\")\n",
    "        self.name = name\n",
    "        self.phone = phone\n",
    "        self.remarks = remarks\n",
    "        \n",
    "    # setter method\n",
    "    def setname(self, new_name, new_phone, new_remarks):\n",
    "        self.name = new_name                          \n",
    "        self.phone = new_phone\n",
    "        self.remarks = new_remarks\n",
    "     \n",
    "    # getter method\n",
    "    def getname(self):\n",
    "        print(self.name)\n",
    "        print(self.phone)\n",
    "        print(self.remarks)"
   ]
  },
  {
   "cell_type": "code",
   "execution_count": 39,
   "metadata": {},
   "outputs": [
    {
     "name": "stdout",
     "output_type": "stream",
     "text": [
      "Welcome to LW...\n",
      "\n",
      "tom jo\n",
      "2222\n",
      "fine\n",
      "\n",
      "tom le\n",
      "2255\n",
      "ok\n"
     ]
    }
   ],
   "source": [
    "# Filling hard copy form using construtor\n",
    "tom = VisitorForm(\"tom jo\", 2222, \"fine\")\n",
    "tom.getname()\n",
    "print()\n",
    "\n",
    "# Setting new values\n",
    "tom.setname(\"tom le\", 2255, \"ok\") \n",
    "\n",
    "tom.getname()"
   ]
  },
  {
   "cell_type": "code",
   "execution_count": null,
   "metadata": {},
   "outputs": [],
   "source": []
  },
  {
   "cell_type": "markdown",
   "metadata": {},
   "source": [
    "### Total three methods are there to fill hard copy visitor form:\n",
    "\n",
    " 1). jack.name = \"jack ku\"\n",
    " \n",
    "   jack.phone = 8899\n",
    "     \n",
    "   jack.remarks = \"excellent\"\n",
    "     \n",
    " 2). jack.setname(\"jack ma\", 1111, \"gud\")\n",
    " \n",
    " 3). jack = VisitorForm(\"tom jo\", 2222, \"fine\")           # Best Method\n",
    "\n"
   ]
  },
  {
   "cell_type": "code",
   "execution_count": null,
   "metadata": {},
   "outputs": [],
   "source": []
  }
 ],
 "metadata": {
  "kernelspec": {
   "display_name": "Python 3",
   "language": "python",
   "name": "python3"
  },
  "language_info": {
   "codemirror_mode": {
    "name": "ipython",
    "version": 3
   },
   "file_extension": ".py",
   "mimetype": "text/x-python",
   "name": "python",
   "nbconvert_exporter": "python",
   "pygments_lexer": "ipython3",
   "version": "3.8.3"
  }
 },
 "nbformat": 4,
 "nbformat_minor": 4
}
