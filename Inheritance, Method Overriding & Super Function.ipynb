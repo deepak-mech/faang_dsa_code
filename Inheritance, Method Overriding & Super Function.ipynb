{
 "cells": [
  {
   "cell_type": "code",
   "execution_count": 4,
   "metadata": {},
   "outputs": [],
   "source": [
    "## Inheritance: The capability of a class to derive properties and characteristics from another class is called Inheritance.\n",
    "\n",
    "## Method Overriding: Method Overriding means that the code comprises of two or more methods with the same name differ from each other.\n",
    "\n",
    "## Sub Class: The class that inherits properties from another class is called Sub class or Derived Class.\n",
    "\n",
    "## Super Class:The class whose properties are inherited by sub class is called Base Class or Super class.\n"
   ]
  },
  {
   "cell_type": "code",
   "execution_count": null,
   "metadata": {},
   "outputs": [],
   "source": [
    "# Inheritnace & Method Overriding\n",
    "class VisitorForm:\n",
    "    city = \"jaipur\"    \n",
    "    def lw(self):\n",
    "        print(\"hii lw\")\n",
    "        \n",
    "class JobForm(VisitorForm):\n",
    "    def myjob(self):\n",
    "        print(\"hii job\")\n",
    "        \n",
    "    def lw(self):\n",
    "        print(\"parent method overrided\")\n",
    "       \n",
    "tom = JobForm()"
   ]
  },
  {
   "cell_type": "code",
   "execution_count": 5,
   "metadata": {},
   "outputs": [
    {
     "name": "stdout",
     "output_type": "stream",
     "text": [
      "parent method overrided\n",
      "hii job\n"
     ]
    },
    {
     "data": {
      "text/plain": [
       "'jaipur'"
      ]
     },
     "execution_count": 5,
     "metadata": {},
     "output_type": "execute_result"
    }
   ],
   "source": [
    "tom.lw()\n",
    "tom.myjob()\n",
    "tom.city"
   ]
  },
  {
   "cell_type": "code",
   "execution_count": null,
   "metadata": {},
   "outputs": [],
   "source": []
  },
  {
   "cell_type": "code",
   "execution_count": 40,
   "metadata": {},
   "outputs": [],
   "source": [
    "# Super Function: The super function returns a temporary object of the superclass that allows access to all of its methods to its child class.\n",
    "\n",
    "class VisitorForm:\n",
    "    x = 5\n",
    "    def __init__(self, myname, myphone):\n",
    "        self.name = myname\n",
    "        self.phone = myphone\n",
    "        \n",
    "    def getphone(self):\n",
    "        print(self.phone)\n",
    "        \n",
    "class JobForm(VisitorForm):\n",
    "    def __init__(self, myexp, n, p):\n",
    "        self.exp = myexp\n",
    "        print(\"I am Child Class\\n\")\n",
    "        super().__init__(n, p)\n",
    "        \n",
    "    def myjob(self):\n",
    "        print(\"my job\")\n",
    "        print(super())\n",
    "        print(super().x)\n",
    "        super().getphone()"
   ]
  },
  {
   "cell_type": "code",
   "execution_count": 41,
   "metadata": {},
   "outputs": [
    {
     "name": "stdout",
     "output_type": "stream",
     "text": [
      "I am Child Class\n",
      "\n",
      "my job\n",
      "<super: <class 'JobForm'>, <JobForm object>>\n",
      "5\n",
      "1111\n"
     ]
    }
   ],
   "source": [
    "jack = JobForm(5, \"jackma\", 1111)\n",
    "\n",
    "jack.myjob()"
   ]
  },
  {
   "cell_type": "code",
   "execution_count": 42,
   "metadata": {},
   "outputs": [
    {
     "name": "stdout",
     "output_type": "stream",
     "text": [
      "1111\n"
     ]
    }
   ],
   "source": [
    "jack.getphone()"
   ]
  },
  {
   "cell_type": "code",
   "execution_count": null,
   "metadata": {},
   "outputs": [],
   "source": []
  },
  {
   "cell_type": "code",
   "execution_count": 140,
   "metadata": {},
   "outputs": [],
   "source": [
    "# Multiple Inheritance: A class can also be derived from more than one base class, using a comma-separated list.\n",
    "\n",
    "class SecForm:   \n",
    "    def __init__(self, name, phone, email, add):\n",
    "        print(super())\n",
    "        self.name = name\n",
    "        self.phone = phone\n",
    "        print(self.name)\n",
    "        super().__init__(email, add)\n",
    "    \n",
    "    def mysec(self):\n",
    "        print(self.phone)\n",
    "        print(\"form filled at main gate\")\n",
    " \n",
    "\n",
    "class RecpForm:\n",
    "    def __init__(self, email, add):\n",
    "        self.email = email\n",
    "        self.add = add\n",
    "        print(self.add)\n",
    "        \n",
    "    def myrecp(self):\n",
    "        print(self.email)\n",
    "        print(\"form filled at reception\")\n",
    "    \n",
    "    \n",
    "class JobForm(SecForm, RecpForm):\n",
    "    def __init__(self, exp, jobtitle, name, phone, email, add):\n",
    "        self.exp = exp\n",
    "        self.jobtitle = jobtitle\n",
    "        print(super())\n",
    "        print(self.exp)\n",
    "        super().__init__(name, phone, email, add)\n",
    "        \n",
    "    def myjob(self):\n",
    "        super().mysec()\n",
    "        super().myrecp()\n"
   ]
  },
  {
   "cell_type": "code",
   "execution_count": 141,
   "metadata": {},
   "outputs": [
    {
     "name": "stdout",
     "output_type": "stream",
     "text": [
      "<super: <class 'JobForm'>, <JobForm object>>\n",
      "4\n",
      "<super: <class 'SecForm'>, <JobForm object>>\n",
      "eric leu\n",
      "US\n"
     ]
    }
   ],
   "source": [
    "eric = JobForm(name = \"eric leu\", phone = \"222\",exp = \"4\", jobtitle = \"DevOps\", email = \"eric@com\", add = \"US\")"
   ]
  },
  {
   "cell_type": "code",
   "execution_count": 142,
   "metadata": {},
   "outputs": [
    {
     "name": "stdout",
     "output_type": "stream",
     "text": [
      "222\n",
      "form filled at main gate\n",
      "eric@com\n",
      "form filled at reception\n"
     ]
    }
   ],
   "source": [
    "eric.myjob()"
   ]
  },
  {
   "cell_type": "code",
   "execution_count": null,
   "metadata": {},
   "outputs": [],
   "source": []
  },
  {
   "cell_type": "code",
   "execution_count": 130,
   "metadata": {},
   "outputs": [],
   "source": [
    "class First:\n",
    "    def __init__(self):\n",
    "        print()\n",
    "        print(super())\n",
    "        print(\"first\\n\")\n",
    "        super().__init__()\n",
    "\n",
    "class Second:\n",
    "    def __init__(self):\n",
    "        print(super())\n",
    "        print(\"second\\n\")\n",
    "        super().__init__()\n",
    "        \n",
    "class Third:\n",
    "    def __init__(self):\n",
    "        print(\"third\\n\")\n",
    "\n",
    "class Fourth(First, Second, Third):\n",
    "    def __init__(self):\n",
    "        print(super())\n",
    "        super().__init__()\n",
    "        print(\"fourth\")"
   ]
  },
  {
   "cell_type": "code",
   "execution_count": 131,
   "metadata": {},
   "outputs": [
    {
     "name": "stdout",
     "output_type": "stream",
     "text": [
      "<super: <class 'Fourth'>, <Fourth object>>\n",
      "\n",
      "<super: <class 'First'>, <Fourth object>>\n",
      "first\n",
      "\n",
      "<super: <class 'Second'>, <Fourth object>>\n",
      "second\n",
      "\n",
      "third\n",
      "\n",
      "fourth\n"
     ]
    }
   ],
   "source": [
    "neck = Fourth()"
   ]
  },
  {
   "cell_type": "code",
   "execution_count": null,
   "metadata": {},
   "outputs": [],
   "source": []
  },
  {
   "cell_type": "code",
   "execution_count": null,
   "metadata": {},
   "outputs": [],
   "source": [
    "# Comments in Python:\n",
    "   # Comments can be used to explain Python code.\n",
    "\n",
    "   # Comments can be used to make the code more readable.\n",
    "\n",
    "   # Comments can be used to prevent execution when testing code.\n",
    "\n",
    "## SingleLine Comment: SingleLine comment in Python starts with the hash character (#)\n",
    "\n",
    "## MultiLine Comment: Use Single Triple Quote('''...''') or Double Tripple Quote(\"\"\" ..... \"\"\")"
   ]
  },
  {
   "cell_type": "code",
   "execution_count": null,
   "metadata": {},
   "outputs": [],
   "source": []
  }
 ],
 "metadata": {
  "kernelspec": {
   "display_name": "Python 3",
   "language": "python",
   "name": "python3"
  },
  "language_info": {
   "codemirror_mode": {
    "name": "ipython",
    "version": 3
   },
   "file_extension": ".py",
   "mimetype": "text/x-python",
   "name": "python",
   "nbconvert_exporter": "python",
   "pygments_lexer": "ipython3",
   "version": "3.8.3"
  }
 },
 "nbformat": 4,
 "nbformat_minor": 4
}
